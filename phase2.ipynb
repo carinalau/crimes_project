{
 "cells": [
  {
   "cell_type": "markdown",
   "metadata": {},
   "source": [
    "Research Question:\n",
    "What set of factors is most important in determining adult crime rates across U.S. states from 2013-2018? How could we use these factors to accurately predict future crime rates?"
   ]
  },
  {
   "cell_type": "code",
   "execution_count": 17,
   "metadata": {},
   "outputs": [],
   "source": [
    "import numpy as np\n",
    "import seaborn as sns\n",
    "import pandas as pd\n",
    "import matplotlib.pyplot as plt"
   ]
  },
  {
   "cell_type": "markdown",
   "metadata": {},
   "source": [
    "Data Overview: \n",
    "Jasmine"
   ]
  },
  {
   "cell_type": "markdown",
   "metadata": {},
   "source": [
    "Data Cleaning"
   ]
  },
  {
   "cell_type": "code",
   "execution_count": 36,
   "metadata": {},
   "outputs": [],
   "source": [
    "#loading crime data\n",
    "crime_df = pd.read_csv('data/crime.csv')"
   ]
  },
  {
   "cell_type": "code",
   "execution_count": 37,
   "metadata": {},
   "outputs": [
    {
     "name": "stdout",
     "output_type": "stream",
     "text": [
      "0     year state_abbr state_name population violent_crime homicide  \\\n",
      "0     1979        NaN        NaN  220099000       1208030    21460   \n",
      "1     1979         AK     Alaska     406000          1994       54   \n",
      "2     1979         AL    Alabama    3769000         15578      496   \n",
      "3     1979         AR   Arkansas    2180000          7984      198   \n",
      "4     1979         AZ    Arizona    2450000         14528      219   \n",
      "...    ...        ...        ...        ...           ...      ...   \n",
      "2331  2023         VA        NaN  8,715,698        20,589      520   \n",
      "2332  2023         WA        NaN  7,812,880        27,909      373   \n",
      "2333  2023         WV        NaN  1,770,071         4,699       87   \n",
      "2334  2023         WI        NaN  5,910,955        17,057      283   \n",
      "2335  2023         WY        NaN    584,057         1,116       18   \n",
      "\n",
      "0    rape_legacy rape_revised robbery aggravated_assault property_crime  \\\n",
      "0          76390          NaN  480700             629480       11041500   \n",
      "1            292          NaN     445               1203          23193   \n",
      "2           1037          NaN    4127               9918         144372   \n",
      "3            595          NaN    1626               5565          70949   \n",
      "4           1120          NaN    4305               8884         177977   \n",
      "...          ...          ...     ...                ...            ...   \n",
      "2331         NaN        2,595   3,283             14,191        144,566   \n",
      "2332         NaN        2,917   6,416             18,203        225,535   \n",
      "2333         NaN          823     199              3,590         21,153   \n",
      "2334         NaN        2,156   2,285             12,333         71,929   \n",
      "2335         NaN          314      67                717          8,585   \n",
      "\n",
      "0    burglary  larceny motor_vehicle_theft caveats  \n",
      "0     3327700  6601000             1112800     NaN  \n",
      "1        5616    15076                2501     NaN  \n",
      "2       48517    83791               12064     NaN  \n",
      "3       21457    45267                4225     NaN  \n",
      "4       48916   116976               12085     NaN  \n",
      "...       ...      ...                 ...     ...  \n",
      "2331   10,665  118,839              15,062     NaN  \n",
      "2332   37,583  134,730              53,222     NaN  \n",
      "2333    3,156   16,355               1,642     NaN  \n",
      "2334    7,619   54,374               9,936     NaN  \n",
      "2335    1,185    6,631                 769     NaN  \n",
      "\n",
      "[2336 rows x 15 columns]\n"
     ]
    }
   ],
   "source": [
    "#fix headings so that they are not indexed and the title of each column\n",
    "crime_df.columns = crime_df.iloc[0]\n",
    "crime_df = crime_df.drop(0)\n",
    "crime_df = crime_df.reset_index(drop=True)\n",
    "print(crime_df)"
   ]
  },
  {
   "cell_type": "code",
   "execution_count": 41,
   "metadata": {},
   "outputs": [],
   "source": [
    "#making the year into an interger from an object\n",
    "crime_df['year']=crime_df['year'].astype(int)"
   ]
  },
  {
   "cell_type": "code",
   "execution_count": 45,
   "metadata": {},
   "outputs": [
    {
     "name": "stdout",
     "output_type": "stream",
     "text": [
      "0     year state_abbr     state_name population violent_crime homicide  \\\n",
      "1768  2013        NaN            NaN  316497531       1168298    14319   \n",
      "1769  2013         AK         Alaska     737259          4709       34   \n",
      "1770  2013         AL        Alabama    4833996         20834      346   \n",
      "1771  2013         AR       Arkansas    2958765         13705      158   \n",
      "1772  2013         AZ        Arizona    6634997         27576      355   \n",
      "...    ...        ...            ...        ...           ...      ...   \n",
      "2073  2018         VT        Vermont     624358          1155       11   \n",
      "2074  2018         WA     Washington    7523869         23719      236   \n",
      "2075  2018         WI      Wisconsin    5807406         17365      175   \n",
      "2076  2018         WV  West Virginia    1804291          5411       76   \n",
      "2077  2018         WY        Wyoming     577601          1235       14   \n",
      "\n",
      "0    rape_legacy rape_revised robbery aggravated_assault property_crime  \\\n",
      "1768       82109       113695  345093             726777        8651892   \n",
      "1769         657          925     623               3127          21211   \n",
      "1770        1449         2055    4645              13788         161835   \n",
      "1771        1135         1490    2261               9796         106477   \n",
      "1772        2344         3174    6656              17391         223294   \n",
      "...          ...          ...     ...                ...            ...   \n",
      "2073         NaN          326      73                745           8211   \n",
      "2074         NaN         3610    5557              14316         223256   \n",
      "2075         NaN         2333    3493              11364          91238   \n",
      "2076         NaN          716     333               4286          27888   \n",
      "2077         NaN          261      75                885          10308   \n",
      "\n",
      "0    burglary  larceny motor_vehicle_theft caveats  \n",
      "1768  1932139  6019465              700288     NaN  \n",
      "1769     2917    16599                1695     NaN  \n",
      "1770    42410   108862               10563     NaN  \n",
      "1771    30369    70430                5678     NaN  \n",
      "1772    48292   158036               16966     NaN  \n",
      "...       ...      ...                 ...     ...  \n",
      "2073     1496     6451                 264     NaN  \n",
      "2074    40434   154941               27881     NaN  \n",
      "2075    14180    68380                8678     NaN  \n",
      "2076     5916    19783                2189     NaN  \n",
      "2077     1551     7974                 783     NaN  \n",
      "\n",
      "[310 rows x 15 columns]\n"
     ]
    }
   ],
   "source": [
    "#shaping the data set so that we are only looking at years 2013 to 2018\n",
    "crime_filtered_years = crime_df[(crime_df['year'] >= 2013) & (crime_df['year'] <= 2018)]\n",
    "print(crime_filtered_years)"
   ]
  },
  {
   "cell_type": "code",
   "execution_count": null,
   "metadata": {},
   "outputs": [],
   "source": [
    "#remove the nan values\n",
    "#remove rape_revised\n",
    "#rename all the titles"
   ]
  }
 ],
 "metadata": {
  "kernelspec": {
   "display_name": "Python 3",
   "language": "python",
   "name": "python3"
  },
  "language_info": {
   "codemirror_mode": {
    "name": "ipython",
    "version": 3
   },
   "file_extension": ".py",
   "mimetype": "text/x-python",
   "name": "python",
   "nbconvert_exporter": "python",
   "pygments_lexer": "ipython3",
   "version": "3.12.1"
  }
 },
 "nbformat": 4,
 "nbformat_minor": 2
}
