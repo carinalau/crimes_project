{
 "cells": [
  {
   "cell_type": "markdown",
   "metadata": {},
   "source": [
    "Research Question:\n",
    "What set of factors is most important in determining adult violent crime rates across U.S. states from 2013-2018? How could we use these factors to accurately predict future violent crime rates?"
   ]
  },
  {
   "cell_type": "markdown",
   "metadata": {},
   "source": [
    "sources:\n",
    "using inplace for the rename function: https://www.geeksforgeeks.org/what-does-inplace-mean-in-pandas/"
   ]
  },
  {
   "cell_type": "code",
   "execution_count": 1,
   "metadata": {},
   "outputs": [],
   "source": [
    "import numpy as np\n",
    "import seaborn as sns\n",
    "import pandas as pd\n",
    "import matplotlib.pyplot as plt"
   ]
  },
  {
   "cell_type": "markdown",
   "metadata": {},
   "source": [
    "Data Overview: \n",
    "Jasmine"
   ]
  },
  {
   "cell_type": "markdown",
   "metadata": {},
   "source": [
    "Data Cleaning"
   ]
  },
  {
   "cell_type": "code",
   "execution_count": 2,
   "metadata": {},
   "outputs": [
    {
     "name": "stdout",
     "output_type": "stream",
     "text": [
      "     estimated_crimes_1979_2023  Unnamed: 1  Unnamed: 2  Unnamed: 3  \\\n",
      "0                          year  state_abbr  state_name  population   \n",
      "1                          1979         NaN         NaN   220099000   \n",
      "2                          1979          AK      Alaska      406000   \n",
      "3                          1979          AL     Alabama     3769000   \n",
      "4                          1979          AR    Arkansas     2180000   \n",
      "...                         ...         ...         ...         ...   \n",
      "2332                       2023          VA         NaN   8,715,698   \n",
      "2333                       2023          WA         NaN   7,812,880   \n",
      "2334                       2023          WV         NaN   1,770,071   \n",
      "2335                       2023          WI         NaN   5,910,955   \n",
      "2336                       2023          WY         NaN     584,057   \n",
      "\n",
      "         Unnamed: 4 Unnamed: 5   Unnamed: 6    Unnamed: 7 Unnamed: 8  \\\n",
      "0     violent_crime   homicide  rape_legacy  rape_revised    robbery   \n",
      "1           1208030      21460        76390           NaN     480700   \n",
      "2              1994         54          292           NaN        445   \n",
      "3             15578        496         1037           NaN       4127   \n",
      "4              7984        198          595           NaN       1626   \n",
      "...             ...        ...          ...           ...        ...   \n",
      "2332         20,589        520          NaN         2,595      3,283   \n",
      "2333         27,909        373          NaN         2,917      6,416   \n",
      "2334          4,699         87          NaN           823        199   \n",
      "2335         17,057        283          NaN         2,156      2,285   \n",
      "2336          1,116         18          NaN           314         67   \n",
      "\n",
      "              Unnamed: 9     Unnamed: 10 Unnamed: 11 Unnamed: 12  \\\n",
      "0     aggravated_assault  property_crime    burglary     larceny   \n",
      "1                 629480        11041500     3327700     6601000   \n",
      "2                   1203           23193        5616       15076   \n",
      "3                   9918          144372       48517       83791   \n",
      "4                   5565           70949       21457       45267   \n",
      "...                  ...             ...         ...         ...   \n",
      "2332              14,191         144,566      10,665     118,839   \n",
      "2333              18,203         225,535      37,583     134,730   \n",
      "2334               3,590          21,153       3,156      16,355   \n",
      "2335              12,333          71,929       7,619      54,374   \n",
      "2336                 717           8,585       1,185       6,631   \n",
      "\n",
      "              Unnamed: 13 Unnamed: 14  \n",
      "0     motor_vehicle_theft     caveats  \n",
      "1                 1112800         NaN  \n",
      "2                    2501         NaN  \n",
      "3                   12064         NaN  \n",
      "4                    4225         NaN  \n",
      "...                   ...         ...  \n",
      "2332               15,062         NaN  \n",
      "2333               53,222         NaN  \n",
      "2334                1,642         NaN  \n",
      "2335                9,936         NaN  \n",
      "2336                  769         NaN  \n",
      "\n",
      "[2337 rows x 15 columns]\n"
     ]
    }
   ],
   "source": [
    "#loading crime data\n",
    "crime_df = pd.read_csv('data/crime.csv')\n",
    "print(crime_df)"
   ]
  },
  {
   "cell_type": "code",
   "execution_count": 3,
   "metadata": {},
   "outputs": [
    {
     "name": "stdout",
     "output_type": "stream",
     "text": [
      "Index(['estimated_crimes_1979_2023', 'Unnamed: 1', 'Unnamed: 2', 'Unnamed: 3',\n",
      "       'Unnamed: 4', 'Unnamed: 5', 'Unnamed: 6', 'Unnamed: 7', 'Unnamed: 8',\n",
      "       'Unnamed: 9', 'Unnamed: 10', 'Unnamed: 11', 'Unnamed: 12',\n",
      "       'Unnamed: 13', 'Unnamed: 14'],\n",
      "      dtype='object')\n",
      "      Year State_Abbreviation  State_Name  Population  Violent_Crime  \\\n",
      "0     year         state_abbr  state_name  population  violent_crime   \n",
      "1     1979                NaN         NaN   220099000        1208030   \n",
      "2     1979                 AK      Alaska      406000           1994   \n",
      "3     1979                 AL     Alabama     3769000          15578   \n",
      "4     1979                 AR    Arkansas     2180000           7984   \n",
      "...    ...                ...         ...         ...            ...   \n",
      "2332  2023                 VA         NaN   8,715,698         20,589   \n",
      "2333  2023                 WA         NaN   7,812,880         27,909   \n",
      "2334  2023                 WV         NaN   1,770,071          4,699   \n",
      "2335  2023                 WI         NaN   5,910,955         17,057   \n",
      "2336  2023                 WY         NaN     584,057          1,116   \n",
      "\n",
      "      Homicide         Rape  Robbery  Aggravated_Assault  \n",
      "0     homicide  rape_legacy  robbery  aggravated_assault  \n",
      "1        21460        76390   480700              629480  \n",
      "2           54          292      445                1203  \n",
      "3          496         1037     4127                9918  \n",
      "4          198          595     1626                5565  \n",
      "...        ...          ...      ...                 ...  \n",
      "2332       520          NaN    3,283              14,191  \n",
      "2333       373          NaN    6,416              18,203  \n",
      "2334        87          NaN      199               3,590  \n",
      "2335       283          NaN    2,285              12,333  \n",
      "2336        18          NaN       67                 717  \n",
      "\n",
      "[2337 rows x 9 columns]\n"
     ]
    }
   ],
   "source": [
    "#see what the names of each column are without any edits to the csv\n",
    "print(crime_df.columns)\n",
    "\n",
    "#rename the columns we want with proper names\n",
    "crime_df.rename(columns={\n",
    "    'estimated_crimes_1979_2023': 'Year', \n",
    "    'Unnamed: 1': 'State_Abbreviation', \n",
    "    'Unnamed: 2': 'State_Name', \n",
    "    'Unnamed: 3': 'Population',\n",
    "    'Unnamed: 4': 'Violent_Crime', \n",
    "    'Unnamed: 5': 'Homicide',\n",
    "    'Unnamed: 6': 'Rape', \n",
    "    'Unnamed: 7': 'Rape_Revised',\n",
    "    'Unnamed: 8': 'Robbery', \n",
    "    'Unnamed: 9': 'Aggravated_Assault'\n",
    "},inplace=True)\n",
    "\n",
    "#drop columns that will not be used during the analysis\n",
    "crime_df = crime_df.drop(columns=['Rape_Revised','Unnamed: 10', 'Unnamed: 11', 'Unnamed: 12',\n",
    "       'Unnamed: 13', 'Unnamed: 14'])\n",
    "print(crime_df)\n"
   ]
  },
  {
   "cell_type": "code",
   "execution_count": 4,
   "metadata": {},
   "outputs": [
    {
     "name": "stdout",
     "output_type": "stream",
     "text": [
      "      Year State_Abbreviation     State_Name Population Violent_Crime  \\\n",
      "1769  2013                 AK         Alaska     737259          4709   \n",
      "1770  2013                 AL        Alabama    4833996         20834   \n",
      "1771  2013                 AR       Arkansas    2958765         13705   \n",
      "1772  2013                 AZ        Arizona    6634997         27576   \n",
      "1773  2013                 CA     California   38431393        154739   \n",
      "...    ...                ...            ...        ...           ...   \n",
      "2073  2018                 VT        Vermont     624358          1155   \n",
      "2074  2018                 WA     Washington    7523869         23719   \n",
      "2075  2018                 WI      Wisconsin    5807406         17365   \n",
      "2076  2018                 WV  West Virginia    1804291          5411   \n",
      "2077  2018                 WY        Wyoming     577601          1235   \n",
      "\n",
      "     Homicide  Rape Robbery Aggravated_Assault  \n",
      "1769       34   657     623               3127  \n",
      "1770      346  1449    4645              13788  \n",
      "1771      158  1135    2261               9796  \n",
      "1772      355  2344    6656              17391  \n",
      "1773     1746  7464   53640              89029  \n",
      "...       ...   ...     ...                ...  \n",
      "2073       11   NaN      73                745  \n",
      "2074      236   NaN    5557              14316  \n",
      "2075      175   NaN    3493              11364  \n",
      "2076       76   NaN     333               4286  \n",
      "2077       14   NaN      75                885  \n",
      "\n",
      "[306 rows x 9 columns]\n"
     ]
    }
   ],
   "source": [
    "#dropping the first row (index 0) and reset the indexes. This way, I can turn the year from object to integer.\n",
    "crime_df = crime_df.drop(index=0)\n",
    "\n",
    "# Reset the index \n",
    "crime_df.reset_index(drop=True, inplace=True)\n",
    "\n",
    "#making the year into an interger from an object\n",
    "crime_df['Year']=crime_df['Year'].astype(int)\n",
    "\n",
    "#shaping the data set so that we are only looking at years 2013 to 2018\n",
    "crime_filtered_years = crime_df[(crime_df['Year'] >= 2013) & (crime_df['Year'] <= 2018)]\n",
    "\n",
    "# Drop rows where 'State_Abbreviation' or 'State_Name' is NaN \n",
    "crime_filtered_years = crime_filtered_years.dropna(subset=['State_Abbreviation', 'State_Name'])\n",
    "print(crime_filtered_years)\n"
   ]
  },
  {
   "cell_type": "code",
   "execution_count": 5,
   "metadata": {},
   "outputs": [
    {
     "name": "stdout",
     "output_type": "stream",
     "text": [
      "                                             Unnamed: 0        Unnamed: 1  \\\n",
      "0     Table 19. Number of Poor and Poverty Rate by S...               NaN   \n",
      "1     (Population in thousands. Population as of Mar...               NaN   \n",
      "2                                                  2023               NaN   \n",
      "3                                                 State  Total population   \n",
      "4                                               Alabama             4,995   \n",
      "...                                                 ...               ...   \n",
      "2437                                      West Virginia             1,952   \n",
      "2438                                          Wisconsin             4,724   \n",
      "2439                                            Wyoming               468   \n",
      "2440  Source: U.S. Census Bureau, Current Population...               NaN   \n",
      "2441  Footnotes are available at <www.census.gov/top...               NaN   \n",
      "\n",
      "             Unnamed: 2                Unnamed: 3          Unnamed: 4  \\\n",
      "0                   NaN                       NaN                 NaN   \n",
      "1                   NaN                       NaN                 NaN   \n",
      "2                   NaN                       NaN                 NaN   \n",
      "3     Number in poverty  Margin of error (±) (29)  Percent in poverty   \n",
      "4                   711                       114                14.2   \n",
      "...                 ...                       ...                 ...   \n",
      "2437                297                        81                15.2   \n",
      "2438                403                        94                 8.5   \n",
      "2439                 49                        33                10.4   \n",
      "2440                NaN                       NaN                 NaN   \n",
      "2441                NaN                       NaN                 NaN   \n",
      "\n",
      "                    Unnamed: 5  \n",
      "0                          NaN  \n",
      "1                          NaN  \n",
      "2                          NaN  \n",
      "3     Margin of error (±) (29)  \n",
      "4                          2.3  \n",
      "...                        ...  \n",
      "2437                       3.8  \n",
      "2438                       1.8  \n",
      "2439                       6.6  \n",
      "2440                       NaN  \n",
      "2441                       NaN  \n",
      "\n",
      "[2442 rows x 6 columns]\n"
     ]
    }
   ],
   "source": [
    "#loading poverty data\n",
    "poverty_df = pd.read_csv('data/poverty.csv')\n",
    "print(poverty_df)"
   ]
  },
  {
   "cell_type": "code",
   "execution_count": 6,
   "metadata": {},
   "outputs": [
    {
     "name": "stdout",
     "output_type": "stream",
     "text": [
      "Index([267], dtype='int64')\n",
      "Index([585], dtype='int64')\n",
      "585\n",
      "267\n",
      "                                             Unnamed: 0        Unnamed: 1  \\\n",
      "2                                                  2023               NaN   \n",
      "3                                                 State  Total population   \n",
      "4                                               Alabama             4,995   \n",
      "5                                                Alaska               717   \n",
      "6                                               Arizona             7,210   \n",
      "...                                                 ...               ...   \n",
      "2437                                      West Virginia             1,952   \n",
      "2438                                          Wisconsin             4,724   \n",
      "2439                                            Wyoming               468   \n",
      "2440  Source: U.S. Census Bureau, Current Population...               NaN   \n",
      "2441  Footnotes are available at <www.census.gov/top...               NaN   \n",
      "\n",
      "             Unnamed: 2                Unnamed: 3          Unnamed: 4  \\\n",
      "2                   NaN                       NaN                 NaN   \n",
      "3     Number in poverty  Margin of error (±) (29)  Percent in poverty   \n",
      "4                   711                       114                14.2   \n",
      "5                    72                        11                10.1   \n",
      "6                   861                       160                11.9   \n",
      "...                 ...                       ...                 ...   \n",
      "2437                297                        81                15.2   \n",
      "2438                403                        94                 8.5   \n",
      "2439                 49                        33                10.4   \n",
      "2440                NaN                       NaN                 NaN   \n",
      "2441                NaN                       NaN                 NaN   \n",
      "\n",
      "                    Unnamed: 5  \n",
      "2                          NaN  \n",
      "3     Margin of error (±) (29)  \n",
      "4                          2.3  \n",
      "5                          1.5  \n",
      "6                          2.2  \n",
      "...                        ...  \n",
      "2437                       3.8  \n",
      "2438                       1.8  \n",
      "2439                       6.6  \n",
      "2440                       NaN  \n",
      "2441                       NaN  \n",
      "\n",
      "[2440 rows x 6 columns]\n"
     ]
    }
   ],
   "source": [
    "#cleaning the first few rows that are just words \n",
    "poverty_df = poverty_df.drop([0, 1])\n",
    "\n",
    "#cutting off any row that is not between 2013 and 2018\n",
    "indices_2018 = poverty_df[poverty_df['Unnamed: 0'] == '2018'].index\n",
    "indices_2013 = poverty_df[poverty_df['Unnamed: 0'] == '2013 (4)'].index\n",
    "print(indices_2018)\n",
    "print(indices_2013)\n",
    "\n",
    "# Get the index of 2013 and 2018\n",
    "index_2013 = poverty_df[poverty_df['Unnamed: 0'] == '2013 (4)'].index[0]\n",
    "print(index_2013)\n",
    "\n",
    "index_2018 = poverty_df[poverty_df['Unnamed: 0'] == '2018'].index[0]\n",
    "print(index_2018)\n",
    "\n",
    "#cutting off one indices above this number so the year does not get cut off\n",
    "poverty_df_filtered = poverty_df[index_2018:index_2013]\n",
    "print(poverty_df)"
   ]
  },
  {
   "cell_type": "code",
   "execution_count": null,
   "metadata": {},
   "outputs": [],
   "source": []
  }
 ],
 "metadata": {
  "kernelspec": {
   "display_name": "Python 3",
   "language": "python",
   "name": "python3"
  },
  "language_info": {
   "codemirror_mode": {
    "name": "ipython",
    "version": 3
   },
   "file_extension": ".py",
   "mimetype": "text/x-python",
   "name": "python",
   "nbconvert_exporter": "python",
   "pygments_lexer": "ipython3",
   "version": "3.12.1"
  }
 },
 "nbformat": 4,
 "nbformat_minor": 2
}
