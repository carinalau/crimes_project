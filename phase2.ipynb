{
 "cells": [
  {
   "cell_type": "markdown",
   "metadata": {},
   "source": [
    "Research Question:\n",
    "What set of factors is most important in determining adult violent crime rates across U.S. states from 2013-2018? How could we use these factors to accurately predict future violent crime rates?"
   ]
  },
  {
   "cell_type": "markdown",
   "metadata": {},
   "source": [
    "sources:\n",
    "using inplace for the rename function: https://www.geeksforgeeks.org/what-does-inplace-mean-in-pandas/"
   ]
  },
  {
   "cell_type": "code",
   "execution_count": 301,
   "metadata": {},
   "outputs": [],
   "source": [
    "import numpy as np\n",
    "import seaborn as sns\n",
    "import pandas as pd\n",
    "import matplotlib.pyplot as plt"
   ]
  },
  {
   "cell_type": "markdown",
   "metadata": {},
   "source": [
    "Data Overview: \n",
    "Jasmine"
   ]
  },
  {
   "cell_type": "markdown",
   "metadata": {},
   "source": [
    "Data Cleaning"
   ]
  },
  {
   "cell_type": "code",
   "execution_count": 302,
   "metadata": {},
   "outputs": [
    {
     "name": "stdout",
     "output_type": "stream",
     "text": [
      "     estimated_crimes_1979_2023  Unnamed: 1  Unnamed: 2  Unnamed: 3  \\\n",
      "0                          year  state_abbr  state_name  population   \n",
      "1                          1979         NaN         NaN   220099000   \n",
      "2                          1979          AK      Alaska      406000   \n",
      "3                          1979          AL     Alabama     3769000   \n",
      "4                          1979          AR    Arkansas     2180000   \n",
      "...                         ...         ...         ...         ...   \n",
      "2332                       2023          VA         NaN   8,715,698   \n",
      "2333                       2023          WA         NaN   7,812,880   \n",
      "2334                       2023          WV         NaN   1,770,071   \n",
      "2335                       2023          WI         NaN   5,910,955   \n",
      "2336                       2023          WY         NaN     584,057   \n",
      "\n",
      "         Unnamed: 4 Unnamed: 5   Unnamed: 6    Unnamed: 7 Unnamed: 8  \\\n",
      "0     violent_crime   homicide  rape_legacy  rape_revised    robbery   \n",
      "1           1208030      21460        76390           NaN     480700   \n",
      "2              1994         54          292           NaN        445   \n",
      "3             15578        496         1037           NaN       4127   \n",
      "4              7984        198          595           NaN       1626   \n",
      "...             ...        ...          ...           ...        ...   \n",
      "2332         20,589        520          NaN         2,595      3,283   \n",
      "2333         27,909        373          NaN         2,917      6,416   \n",
      "2334          4,699         87          NaN           823        199   \n",
      "2335         17,057        283          NaN         2,156      2,285   \n",
      "2336          1,116         18          NaN           314         67   \n",
      "\n",
      "              Unnamed: 9     Unnamed: 10 Unnamed: 11 Unnamed: 12  \\\n",
      "0     aggravated_assault  property_crime    burglary     larceny   \n",
      "1                 629480        11041500     3327700     6601000   \n",
      "2                   1203           23193        5616       15076   \n",
      "3                   9918          144372       48517       83791   \n",
      "4                   5565           70949       21457       45267   \n",
      "...                  ...             ...         ...         ...   \n",
      "2332              14,191         144,566      10,665     118,839   \n",
      "2333              18,203         225,535      37,583     134,730   \n",
      "2334               3,590          21,153       3,156      16,355   \n",
      "2335              12,333          71,929       7,619      54,374   \n",
      "2336                 717           8,585       1,185       6,631   \n",
      "\n",
      "              Unnamed: 13 Unnamed: 14  \n",
      "0     motor_vehicle_theft     caveats  \n",
      "1                 1112800         NaN  \n",
      "2                    2501         NaN  \n",
      "3                   12064         NaN  \n",
      "4                    4225         NaN  \n",
      "...                   ...         ...  \n",
      "2332               15,062         NaN  \n",
      "2333               53,222         NaN  \n",
      "2334                1,642         NaN  \n",
      "2335                9,936         NaN  \n",
      "2336                  769         NaN  \n",
      "\n",
      "[2337 rows x 15 columns]\n"
     ]
    }
   ],
   "source": [
    "#loading crime data\n",
    "crime_df = pd.read_csv('data/crime.csv')\n",
    "print(crime_df)"
   ]
  },
  {
   "cell_type": "code",
   "execution_count": 303,
   "metadata": {},
   "outputs": [
    {
     "name": "stdout",
     "output_type": "stream",
     "text": [
      "Index(['estimated_crimes_1979_2023', 'Unnamed: 1', 'Unnamed: 2', 'Unnamed: 3',\n",
      "       'Unnamed: 4', 'Unnamed: 5', 'Unnamed: 6', 'Unnamed: 7', 'Unnamed: 8',\n",
      "       'Unnamed: 9', 'Unnamed: 10', 'Unnamed: 11', 'Unnamed: 12',\n",
      "       'Unnamed: 13', 'Unnamed: 14'],\n",
      "      dtype='object')\n",
      "      Year State_Abbreviation  State_Name  Population  Violent_Crime  \\\n",
      "0     year         state_abbr  state_name  population  violent_crime   \n",
      "1     1979                NaN         NaN   220099000        1208030   \n",
      "2     1979                 AK      Alaska      406000           1994   \n",
      "3     1979                 AL     Alabama     3769000          15578   \n",
      "4     1979                 AR    Arkansas     2180000           7984   \n",
      "...    ...                ...         ...         ...            ...   \n",
      "2332  2023                 VA         NaN   8,715,698         20,589   \n",
      "2333  2023                 WA         NaN   7,812,880         27,909   \n",
      "2334  2023                 WV         NaN   1,770,071          4,699   \n",
      "2335  2023                 WI         NaN   5,910,955         17,057   \n",
      "2336  2023                 WY         NaN     584,057          1,116   \n",
      "\n",
      "      Homicide         Rape  Robbery  Aggravated_Assault  \n",
      "0     homicide  rape_legacy  robbery  aggravated_assault  \n",
      "1        21460        76390   480700              629480  \n",
      "2           54          292      445                1203  \n",
      "3          496         1037     4127                9918  \n",
      "4          198          595     1626                5565  \n",
      "...        ...          ...      ...                 ...  \n",
      "2332       520          NaN    3,283              14,191  \n",
      "2333       373          NaN    6,416              18,203  \n",
      "2334        87          NaN      199               3,590  \n",
      "2335       283          NaN    2,285              12,333  \n",
      "2336        18          NaN       67                 717  \n",
      "\n",
      "[2337 rows x 9 columns]\n"
     ]
    }
   ],
   "source": [
    "#see what the names of each column are without any edits to the csv\n",
    "print(crime_df.columns)\n",
    "\n",
    "#rename the columns we want with proper names\n",
    "crime_df.rename(columns={\n",
    "    'estimated_crimes_1979_2023': 'Year',\n",
    "    'Unnamed: 1': 'State_Abbreviation',\n",
    "    'Unnamed: 2': 'State_Name',\n",
    "    'Unnamed: 3': 'Population',\n",
    "    'Unnamed: 4': 'Violent_Crime',\n",
    "    'Unnamed: 5': 'Homicide',\n",
    "    'Unnamed: 6': 'Rape',\n",
    "    'Unnamed: 7': 'Rape_Revised',\n",
    "    'Unnamed: 8': 'Robbery',\n",
    "    'Unnamed: 9': 'Aggravated_Assault'\n",
    "},inplace=True)\n",
    "\n",
    "#drop columns that will not be used during the analysis\n",
    "crime_df = crime_df.drop(columns=['Rape_Revised','Unnamed: 10', 'Unnamed: 11', 'Unnamed: 12',\n",
    "       'Unnamed: 13', 'Unnamed: 14'])\n",
    "print(crime_df)\n"
   ]
  },
  {
   "cell_type": "code",
   "execution_count": 304,
   "metadata": {},
   "outputs": [
    {
     "name": "stdout",
     "output_type": "stream",
     "text": [
      "      Year State_Abbreviation     State_Name Population Violent_Crime  \\\n",
      "1769  2013                 AK         Alaska     737259          4709   \n",
      "1770  2013                 AL        Alabama    4833996         20834   \n",
      "1771  2013                 AR       Arkansas    2958765         13705   \n",
      "1772  2013                 AZ        Arizona    6634997         27576   \n",
      "1773  2013                 CA     California   38431393        154739   \n",
      "...    ...                ...            ...        ...           ...   \n",
      "2073  2018                 VT        Vermont     624358          1155   \n",
      "2074  2018                 WA     Washington    7523869         23719   \n",
      "2075  2018                 WI      Wisconsin    5807406         17365   \n",
      "2076  2018                 WV  West Virginia    1804291          5411   \n",
      "2077  2018                 WY        Wyoming     577601          1235   \n",
      "\n",
      "     Homicide  Rape Robbery Aggravated_Assault  \n",
      "1769       34   657     623               3127  \n",
      "1770      346  1449    4645              13788  \n",
      "1771      158  1135    2261               9796  \n",
      "1772      355  2344    6656              17391  \n",
      "1773     1746  7464   53640              89029  \n",
      "...       ...   ...     ...                ...  \n",
      "2073       11   NaN      73                745  \n",
      "2074      236   NaN    5557              14316  \n",
      "2075      175   NaN    3493              11364  \n",
      "2076       76   NaN     333               4286  \n",
      "2077       14   NaN      75                885  \n",
      "\n",
      "[306 rows x 9 columns]\n"
     ]
    }
   ],
   "source": [
    "#dropping the first row (index 0) and reset the indexes. This way, I can turn the year from object to integer.\n",
    "crime_df = crime_df.drop(index=0)\n",
    "\n",
    "# Reset the index\n",
    "crime_df.reset_index(drop=True, inplace=True)\n",
    "\n",
    "#making the year into an interger from an object\n",
    "crime_df['Year']=crime_df['Year'].astype(int)\n",
    "\n",
    "#shaping the data set so that we are only looking at years 2013 to 2018\n",
    "crime_filtered_years = crime_df[(crime_df['Year'] >= 2013) & (crime_df['Year'] <= 2018)]\n",
    "\n",
    "# Drop rows where 'State_Abbreviation' or 'State_Name' is NaN\n",
    "crime_filtered_years = crime_filtered_years.dropna(subset=['State_Abbreviation', 'State_Name'])\n",
    "print(crime_filtered_years)\n"
   ]
  },
  {
   "cell_type": "code",
   "execution_count": 305,
   "metadata": {},
   "outputs": [
    {
     "name": "stdout",
     "output_type": "stream",
     "text": [
      "                                             Unnamed: 0        Unnamed: 1  \\\n",
      "0     Table 19. Number of Poor and Poverty Rate by S...               NaN   \n",
      "1     (Population in thousands. Population as of Mar...               NaN   \n",
      "2                                                  2023               NaN   \n",
      "3                                                 State  Total population   \n",
      "4                                               Alabama             4,995   \n",
      "...                                                 ...               ...   \n",
      "2437                                      West Virginia             1,952   \n",
      "2438                                          Wisconsin             4,724   \n",
      "2439                                            Wyoming               468   \n",
      "2440  Source: U.S. Census Bureau, Current Population...               NaN   \n",
      "2441  Footnotes are available at <www.census.gov/top...               NaN   \n",
      "\n",
      "             Unnamed: 2                Unnamed: 3          Unnamed: 4  \\\n",
      "0                   NaN                       NaN                 NaN   \n",
      "1                   NaN                       NaN                 NaN   \n",
      "2                   NaN                       NaN                 NaN   \n",
      "3     Number in poverty  Margin of error (±) (29)  Percent in poverty   \n",
      "4                   711                       114                14.2   \n",
      "...                 ...                       ...                 ...   \n",
      "2437                297                        81                15.2   \n",
      "2438                403                        94                 8.5   \n",
      "2439                 49                        33                10.4   \n",
      "2440                NaN                       NaN                 NaN   \n",
      "2441                NaN                       NaN                 NaN   \n",
      "\n",
      "                    Unnamed: 5  \n",
      "0                          NaN  \n",
      "1                          NaN  \n",
      "2                          NaN  \n",
      "3     Margin of error (±) (29)  \n",
      "4                          2.3  \n",
      "...                        ...  \n",
      "2437                       3.8  \n",
      "2438                       1.8  \n",
      "2439                       6.6  \n",
      "2440                       NaN  \n",
      "2441                       NaN  \n",
      "\n",
      "[2442 rows x 6 columns]\n"
     ]
    }
   ],
   "source": [
    "#loading poverty data\n",
    "poverty_df = pd.read_csv('data/poverty.csv')\n",
    "print(poverty_df)"
   ]
  },
  {
   "cell_type": "code",
   "execution_count": 306,
   "metadata": {},
   "outputs": [
    {
     "name": "stdout",
     "output_type": "stream",
     "text": [
      "267\n",
      "320\n"
     ]
    }
   ],
   "source": [
    "#cleaning the first few rows that are just words\n",
    "poverty_df = poverty_df.drop([0, 1])\n",
    "\n",
    "poverty_df.rename(columns={'Unnamed: 0':'State', 'Unnamed: 1': 'PovertyTotal',\n",
    "                           'Unnamed: 2': 'Margin_1', 'Unnamed: 4': 'PovertyPercent',\n",
    "                           'Unnamed: 5': \"Margin_2\"}, inplace=True)\n",
    "\n",
    "#cutting off any row that is not between 2013 and 2018\n",
    "index_2018 = poverty_df[poverty_df['State'] == '2018'].index[0]\n",
    "index_2017 = poverty_df[poverty_df['State'] == '2017 (3)'].index[0]\n",
    "print(index_2018)\n",
    "print(index_2017)\n"
   ]
  },
  {
   "cell_type": "code",
   "execution_count": 307,
   "metadata": {},
   "outputs": [
    {
     "name": "stdout",
     "output_type": "stream",
     "text": [
      "          State PovertyTotal Margin_1 Unnamed: 3 PovertyPercent Margin_2\n",
      "269     Alabama        4,877      779        107           16.0      2.1\n",
      "270      Alaska          720       94         15           13.1      2.0\n",
      "271     Arizona        7,241      929        132           12.8      1.8\n",
      "272    Arkansas        2,912      462         63           15.9      2.1\n",
      "273  California       39,150    4,664        303           11.9      0.8\n",
      "             State PovertyTotal Margin_1 Unnamed: 3 PovertyPercent Margin_2\n",
      "315       Virginia        8,393      821        141            9.8      1.6\n",
      "316     Washington        7,555      647        166            8.6      2.1\n",
      "317  West Virginia        1,762      279         35           15.9      2.0\n",
      "318      Wisconsin        5,795      499         89            8.6      1.5\n",
      "319        Wyoming          565       53         10            9.5      1.8\n"
     ]
    }
   ],
   "source": [
    "poverty_2018 = poverty_df[index_2018:index_2017-2]\n",
    "print(poverty_2018.head())\n",
    "print(poverty_2018.tail())"
   ]
  },
  {
   "cell_type": "code",
   "execution_count": 308,
   "metadata": {},
   "outputs": [
    {
     "name": "stdout",
     "output_type": "stream",
     "text": [
      "          State PovertyTotal Margin_1 Unnamed: 3 PovertyPercent Margin_2\n",
      "322     Alabama        4,801      735         95           15.3      2.1\n",
      "323      Alaska          719       87         20           12.1      2.6\n",
      "324     Arizona        6,981      951        171           13.6      2.5\n",
      "325    Arkansas        2,921      436         54           14.9      1.8\n",
      "326  California       39,250    4,759        299           12.1      0.8\n",
      "             State PovertyTotal Margin_1 Unnamed: 3 PovertyPercent Margin_2\n",
      "421       Virginia        8,249      847        127           10.3      1.5\n",
      "422     Washington        7,431      736        104            9.9      1.5\n",
      "423  West Virginia        1,794      311         46           17.3      2.5\n",
      "424      Wisconsin        5,808      551         71            9.5      1.2\n",
      "425        Wyoming          560       70         13           12.4      2.3\n"
     ]
    }
   ],
   "source": [
    "index_2017 = poverty_df[poverty_df['State'] == '2017 (3)'].index[0]\n",
    "index_2016 = poverty_df[poverty_df['State'] == '2016'].index[0]\n",
    "\n",
    "poverty_2017 = poverty_df[index_2017:index_2016-2]\n",
    "print(poverty_2017.head())\n",
    "print(poverty_2017.tail())"
   ]
  },
  {
   "cell_type": "code",
   "execution_count": 309,
   "metadata": {},
   "outputs": [
    {
     "name": "stdout",
     "output_type": "stream",
     "text": [
      "          State PovertyTotal Margin_1 Unnamed: 3 PovertyPercent Margin_2\n",
      "428     Alabama        4,821      782        104           16.2      2.1\n",
      "429      Alaska          708       89         20           12.6      2.8\n",
      "430     Arizona        6,878    1,108        130           16.1      1.8\n",
      "431    Arkansas        2,941      471         46           16.0      1.5\n",
      "432  California       39,140    5,435        288           13.9      0.7\n",
      "             State PovertyTotal Margin_1 Unnamed: 3 PovertyPercent Margin_2\n",
      "474       Virginia        8,163      929        137           11.4      1.6\n",
      "475     Washington        7,289      800         99           11.0      1.3\n",
      "476  West Virginia        1,808      326         51           18.0      2.8\n",
      "477      Wisconsin        5,764      620         84           10.7      1.5\n",
      "478        Wyoming          571       62         12           10.9      2.0\n"
     ]
    }
   ],
   "source": [
    "index_2015 = poverty_df[poverty_df['State'] == '2015'].index[0]\n",
    "\n",
    "poverty_2016 = poverty_df[index_2016:index_2015-2]\n",
    "print(poverty_2016.head())\n",
    "print(poverty_2016.tail())"
   ]
  },
  {
   "cell_type": "code",
   "execution_count": 310,
   "metadata": {},
   "outputs": [
    {
     "name": "stdout",
     "output_type": "stream",
     "text": [
      "          State PovertyTotal Margin_1 Unnamed: 3 PovertyPercent Margin_2\n",
      "481     Alabama        4,820      784         99           16.3      2.0\n",
      "482      Alaska          703       65         10            9.2      1.5\n",
      "483     Arizona        6,728    1,156        138           17.2      2.1\n",
      "484    Arkansas        2,951      475         44           16.1      1.5\n",
      "485  California       39,080    5,441        347           13.9      0.8\n",
      "             State PovertyTotal Margin_1 Unnamed: 3 PovertyPercent Margin_2\n",
      "527       Virginia        8,216      894        133           10.9      1.6\n",
      "528     Washington        7,193      819         89           11.4      1.3\n",
      "529  West Virginia        1,795      261         76           14.5      4.3\n",
      "530      Wisconsin        5,736      654        112           11.4      2.0\n",
      "531        Wyoming          574       56         13            9.8      2.3\n"
     ]
    }
   ],
   "source": [
    "index_2014 = poverty_df[poverty_df['State'] == '2014'].index[0]\n",
    "\n",
    "poverty_2015 = poverty_df[index_2015:index_2014-2]\n",
    "print(poverty_2015.head())\n",
    "print(poverty_2015.tail())"
   ]
  },
  {
   "cell_type": "code",
   "execution_count": 311,
   "metadata": {},
   "outputs": [
    {
     "name": "stdout",
     "output_type": "stream",
     "text": [
      "          State PovertyTotal Margin_1 Unnamed: 3 PovertyPercent Margin_2\n",
      "534     Alabama        4,765      848         87           17.8      1.8\n",
      "535      Alaska          694       82         13           11.9      2.0\n",
      "536     Arizona        6,657    1,409        125           21.2      1.8\n",
      "537    Arkansas        2,891      532         72           18.4      2.5\n",
      "538  California       38,670    6,112        359           15.8      1.0\n",
      "             State PovertyTotal Margin_1 Unnamed: 3 PovertyPercent Margin_2\n",
      "580       Virginia        8,257      842        120           10.2      1.5\n",
      "581     Washington        7,079      852        135           12.0      2.0\n",
      "582  West Virginia        1,822      376         49           20.6      2.8\n",
      "583      Wisconsin        5,742      628         90           10.9      1.6\n",
      "584        Wyoming          572       55         10            9.7      1.8\n"
     ]
    }
   ],
   "source": [
    "index_2013 = poverty_df[poverty_df['State'] == '2013 (4)'].index[0]\n",
    "poverty_2014 = poverty_df[index_2014:index_2013-2]\n",
    "print(poverty_2014.head())\n",
    "print(poverty_2014.tail())"
   ]
  },
  {
   "cell_type": "code",
   "execution_count": 312,
   "metadata": {},
   "outputs": [
    {
     "name": "stdout",
     "output_type": "stream",
     "text": [
      "          State PovertyTotal Margin_1 Unnamed: 3 PovertyPercent Margin_2\n",
      "640     Alabama        4,751      796        110           16.7      2.3\n",
      "641      Alaska          696       76         20           10.9      2.8\n",
      "642     Arizona        6,645    1,345        153           20.2      2.3\n",
      "643    Arkansas        2,940      504        114           17.1      3.9\n",
      "644  California       38,050    5,675        352           14.9      1.0\n",
      "             State PovertyTotal Margin_1 Unnamed: 3 PovertyPercent Margin_2\n",
      "686       Virginia        8,174      854        165           10.4      2.0\n",
      "687     Washington        6,854      819        133           12.0      2.0\n",
      "688  West Virginia        1,823      315         58           17.3      3.1\n",
      "689      Wisconsin        5,625      618        115           11.0      2.0\n",
      "690        Wyoming          578       68         10           11.8      1.8\n"
     ]
    }
   ],
   "source": [
    "index_2013 = poverty_df[poverty_df['State'] == '2013 (5)'].index[0]\n",
    "index_2012 = poverty_df[poverty_df['State'] == '2012'].index[0]\n",
    "poverty_2013 = poverty_df[index_2013:index_2012-2]\n",
    "print(poverty_2013.head())\n",
    "print(poverty_2013.tail())\n"
   ]
  },
  {
   "cell_type": "code",
   "execution_count": 313,
   "metadata": {},
   "outputs": [
    {
     "name": "stdout",
     "output_type": "stream",
     "text": [
      "             State PovertyTotal Margin_1 Unnamed: 3 PovertyPercent Margin_2  \\\n",
      "0          Alabama        4,751      796        110           16.7      2.3   \n",
      "1           Alaska          696       76         20           10.9      2.8   \n",
      "2          Arizona        6,645    1,345        153           20.2      2.3   \n",
      "3         Arkansas        2,940      504        114           17.1      3.9   \n",
      "4       California       38,050    5,675        352           14.9      1.0   \n",
      "..             ...          ...      ...        ...            ...      ...   \n",
      "354       Virginia        8,393      821        141            9.8      1.6   \n",
      "355     Washington        7,555      647        166            8.6      2.1   \n",
      "356  West Virginia        1,762      279         35           15.9      2.0   \n",
      "357      Wisconsin        5,795      499         89            8.6      1.5   \n",
      "358        Wyoming          565       53         10            9.5      1.8   \n",
      "\n",
      "     Year  \n",
      "0    2013  \n",
      "1    2013  \n",
      "2    2013  \n",
      "3    2013  \n",
      "4    2013  \n",
      "..    ...  \n",
      "354  2018  \n",
      "355  2018  \n",
      "356  2018  \n",
      "357  2018  \n",
      "358  2018  \n",
      "\n",
      "[359 rows x 7 columns]\n"
     ]
    }
   ],
   "source": [
    "poverty_2018 = poverty_2018.copy()\n",
    "poverty_2018['Year'] = 2018\n",
    "poverty_2017 = poverty_2017.copy()\n",
    "poverty_2017['Year'] = 2017\n",
    "poverty_2016= poverty_2016.copy()\n",
    "poverty_2016['Year'] = 2016\n",
    "poverty_2015 = poverty_2015.copy()\n",
    "poverty_2015['Year'] = 2015\n",
    "poverty_2014 = poverty_2014.copy()\n",
    "poverty_2014['Year'] = 2014\n",
    "poverty_2013 = poverty_2013.copy()\n",
    "poverty_2013['Year'] = 2013\n",
    "\n",
    "poverty_concat = pd.concat([poverty_2013, poverty_2014, poverty_2015, poverty_2016, poverty_2017, poverty_2018], axis=0)\n",
    "poverty_concat.reset_index(inplace=True, drop=True)\n",
    "print(poverty_concat)\n"
   ]
  },
  {
   "cell_type": "code",
   "execution_count": null,
   "metadata": {},
   "outputs": [],
   "source": []
  }
 ],
 "metadata": {
  "kernelspec": {
   "display_name": "Python 3",
   "language": "python",
   "name": "python3"
  },
  "language_info": {
   "codemirror_mode": {
    "name": "ipython",
    "version": 3
   },
   "file_extension": ".py",
   "mimetype": "text/x-python",
   "name": "python",
   "nbconvert_exporter": "python",
   "pygments_lexer": "ipython3",
   "version": "3.12.1"
  }
 },
 "nbformat": 4,
 "nbformat_minor": 2
}
